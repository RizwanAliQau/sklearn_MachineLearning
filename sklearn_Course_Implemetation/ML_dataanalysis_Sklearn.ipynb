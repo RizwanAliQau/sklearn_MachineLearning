{
 "cells": [
  {
   "cell_type": "markdown",
   "metadata": {},
   "source": [
    ">> Pandas is very good library to manipulate data "
   ]
  },
  {
   "cell_type": "code",
   "execution_count": 28,
   "metadata": {},
   "outputs": [],
   "source": [
    "import pandas as pd\n",
    "import os\n",
    "import time\n",
    "from datetime import datetime"
   ]
  },
  {
   "cell_type": "code",
   "execution_count": 51,
   "metadata": {},
   "outputs": [],
   "source": [
    "path = 'C:/Users/Haier/Downloads/intraQuarter/intraQuarter'\n",
    "def Key_Stats(gather=\"Total Debt/Equity (mrq)\"):\n",
    "    statspath = path + '/_KeyStats'\n",
    "    stock_list = [x[0] for x in os.walk(statspath)]\n",
    "    #print(stock_list)\n",
    "    df = pd.DataFrame(columns=['Date', 'Unix', 'Ticker', 'DE Ratio'])\n",
    "    for each_dir in stock_list[1:]:\n",
    "        each_file = os.listdir(each_dir)\n",
    "        ticker = each_dir.split('\\\\')[1]\n",
    "        if len(each_file)>0:\n",
    "            for file in each_file:\n",
    "                \n",
    "                date_stamp = datetime.strptime(file,'%Y%m%d%H%M%S.html')\n",
    "                unix_time = time.mktime(date_stamp.timetuple())\n",
    "                # print(date_stamp, unix_time)\n",
    "                # time.sleep(15)\n",
    "                full_file_path = (each_dir+'/'+file)\n",
    "                # print(full_file_path)\n",
    "                source = open(full_file_path,'r').read()\n",
    "                # print(source)\n",
    "                # time.sleep(15)\n",
    "                try:\n",
    "                    value = float(source.split(gather+':</td><td class=\"yfnc_tabledata1\">')[1].split('</td>')[0]) # parse table\n",
    "                    df = df.append({'Date':date_stamp,'Unix':unix_time,'Ticker':ticker,'DE Ratio':value})\n",
    "                    # print(ticker+':',value)\n",
    "                except Exception as e:\n",
    "                    pass\n",
    "    save = gather.replace(' ','').replace(')','').replace('(','').replace('/','')+('.csv')\n",
    "    print(save)\n",
    "    df.to_csv(save)\n",
    "                    \n",
    "          \n",
    "                \n",
    "                "
   ]
  },
  {
   "cell_type": "markdown",
   "metadata": {},
   "source": [
    "Running this then saves the dataframe as a CSV spreadsheet for us. We want to save the data since we really just need to access and store the data once. When we begin doing analysis, we're going to want to frequently modify the data, re-structure it, and do all sorts of testing with it. If we were re-pulling the data every single time, it would add a significant amount of time to the overall process."
   ]
  },
  {
   "cell_type": "code",
   "execution_count": 52,
   "metadata": {},
   "outputs": [
    {
     "name": "stdout",
     "output_type": "stream",
     "text": [
      "TotalDebtEquitymrq.csv\n"
     ]
    }
   ],
   "source": [
    "Key_Stats()"
   ]
  },
  {
   "cell_type": "markdown",
   "metadata": {},
   "source": [
    "With this simple splitting method, however, we're able to pull the Debt/Equity ratios for all of the companies."
   ]
  },
  {
   "cell_type": "markdown",
   "metadata": {},
   "source": [
    ">> Next use pandas to structure data "
   ]
  },
  {
   "cell_type": "code",
   "execution_count": null,
   "metadata": {},
   "outputs": [],
   "source": []
  },
  {
   "cell_type": "code",
   "execution_count": 58,
   "metadata": {},
   "outputs": [],
   "source": [
    "sp500_df = pd.read_csv('C:/Users/Haier/Dataset/stock data/GSPC.csv')"
   ]
  },
  {
   "cell_type": "code",
   "execution_count": 59,
   "metadata": {},
   "outputs": [
    {
     "data": {
      "text/html": [
       "<div>\n",
       "<style scoped>\n",
       "    .dataframe tbody tr th:only-of-type {\n",
       "        vertical-align: middle;\n",
       "    }\n",
       "\n",
       "    .dataframe tbody tr th {\n",
       "        vertical-align: top;\n",
       "    }\n",
       "\n",
       "    .dataframe thead th {\n",
       "        text-align: right;\n",
       "    }\n",
       "</style>\n",
       "<table border=\"1\" class=\"dataframe\">\n",
       "  <thead>\n",
       "    <tr style=\"text-align: right;\">\n",
       "      <th></th>\n",
       "      <th>Date</th>\n",
       "      <th>Open</th>\n",
       "      <th>High</th>\n",
       "      <th>Low</th>\n",
       "      <th>Close</th>\n",
       "      <th>Adj Close</th>\n",
       "      <th>Volume</th>\n",
       "    </tr>\n",
       "  </thead>\n",
       "  <tbody>\n",
       "    <tr>\n",
       "      <th>0</th>\n",
       "      <td>2000-04-06</td>\n",
       "      <td>1487.369995</td>\n",
       "      <td>1511.760010</td>\n",
       "      <td>1487.369995</td>\n",
       "      <td>1501.339966</td>\n",
       "      <td>1501.339966</td>\n",
       "      <td>1008000000</td>\n",
       "    </tr>\n",
       "    <tr>\n",
       "      <th>1</th>\n",
       "      <td>2000-04-07</td>\n",
       "      <td>1501.339966</td>\n",
       "      <td>1518.680054</td>\n",
       "      <td>1501.339966</td>\n",
       "      <td>1516.349976</td>\n",
       "      <td>1516.349976</td>\n",
       "      <td>891600000</td>\n",
       "    </tr>\n",
       "    <tr>\n",
       "      <th>2</th>\n",
       "      <td>2000-04-10</td>\n",
       "      <td>1516.349976</td>\n",
       "      <td>1527.189941</td>\n",
       "      <td>1503.349976</td>\n",
       "      <td>1504.459961</td>\n",
       "      <td>1504.459961</td>\n",
       "      <td>853700000</td>\n",
       "    </tr>\n",
       "    <tr>\n",
       "      <th>3</th>\n",
       "      <td>2000-04-11</td>\n",
       "      <td>1504.459961</td>\n",
       "      <td>1512.800049</td>\n",
       "      <td>1486.780029</td>\n",
       "      <td>1500.589966</td>\n",
       "      <td>1500.589966</td>\n",
       "      <td>971400000</td>\n",
       "    </tr>\n",
       "    <tr>\n",
       "      <th>4</th>\n",
       "      <td>2000-04-12</td>\n",
       "      <td>1500.589966</td>\n",
       "      <td>1509.079956</td>\n",
       "      <td>1466.150024</td>\n",
       "      <td>1467.170044</td>\n",
       "      <td>1467.170044</td>\n",
       "      <td>1175900000</td>\n",
       "    </tr>\n",
       "  </tbody>\n",
       "</table>\n",
       "</div>"
      ],
      "text/plain": [
       "         Date         Open         High          Low        Close  \\\n",
       "0  2000-04-06  1487.369995  1511.760010  1487.369995  1501.339966   \n",
       "1  2000-04-07  1501.339966  1518.680054  1501.339966  1516.349976   \n",
       "2  2000-04-10  1516.349976  1527.189941  1503.349976  1504.459961   \n",
       "3  2000-04-11  1504.459961  1512.800049  1486.780029  1500.589966   \n",
       "4  2000-04-12  1500.589966  1509.079956  1466.150024  1467.170044   \n",
       "\n",
       "     Adj Close      Volume  \n",
       "0  1501.339966  1008000000  \n",
       "1  1516.349976   891600000  \n",
       "2  1504.459961   853700000  \n",
       "3  1500.589966   971400000  \n",
       "4  1467.170044  1175900000  "
      ]
     },
     "execution_count": 59,
     "metadata": {},
     "output_type": "execute_result"
    }
   ],
   "source": [
    "sp500_df.head()"
   ]
  },
  {
   "cell_type": "code",
   "execution_count": null,
   "metadata": {},
   "outputs": [],
   "source": []
  }
 ],
 "metadata": {
  "kernelspec": {
   "display_name": "Python 3",
   "language": "python",
   "name": "python3"
  },
  "language_info": {
   "codemirror_mode": {
    "name": "ipython",
    "version": 3
   },
   "file_extension": ".py",
   "mimetype": "text/x-python",
   "name": "python",
   "nbconvert_exporter": "python",
   "pygments_lexer": "ipython3",
   "version": "3.6.9"
  }
 },
 "nbformat": 4,
 "nbformat_minor": 2
}
